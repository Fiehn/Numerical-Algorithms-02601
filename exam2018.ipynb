{
 "cells": [
  {
   "cell_type": "code",
   "execution_count": 122,
   "metadata": {},
   "outputs": [],
   "source": [
    "import numpy as np\n",
    "import matplotlib.pyplot as plt\n",
    "from Functions import *"
   ]
  },
  {
   "cell_type": "code",
   "execution_count": 6,
   "metadata": {},
   "outputs": [
    {
     "name": "stdout",
     "output_type": "stream",
     "text": [
      "2.444444444444444\n",
      "2.333333333333333\n",
      "1.5\n"
     ]
    }
   ],
   "source": [
    "# A \n",
    "print(SimpsonTable([1,2,2],[1,2,3],1,3))\n",
    "print(TrapezTable([1,2,2],1,3,3))\n",
    "print(TrapezTable([1,2],1,3,2))"
   ]
  },
  {
   "cell_type": "code",
   "execution_count": 16,
   "metadata": {},
   "outputs": [
    {
     "data": {
      "text/plain": [
       "([-2.003831861591027,\n",
       "  -1.9869161313178199,\n",
       "  -1.9452577742021837,\n",
       "  -2.1062837195053907],\n",
       " [0.2493368700265252, 0.4468085106382979, 0.5714285714285714, 0.625])"
      ]
     },
     "execution_count": 16,
     "metadata": {},
     "output_type": "execute_result"
    }
   ],
   "source": [
    "# B\n",
    "n = [1,2,3,4,5]\n",
    "er = [3.77,0.94,0.42,0.24,0.15]\n",
    "\n",
    "errorConvergece(n,er)"
   ]
  },
  {
   "cell_type": "code",
   "execution_count": 17,
   "metadata": {},
   "outputs": [
    {
     "data": {
      "text/plain": [
       "3.0"
      ]
     },
     "execution_count": 17,
     "metadata": {},
     "output_type": "execute_result"
    }
   ],
   "source": [
    "# C\n",
    "0.03/0.01"
   ]
  },
  {
   "cell_type": "code",
   "execution_count": 90,
   "metadata": {},
   "outputs": [
    {
     "name": "stdout",
     "output_type": "stream",
     "text": [
      "│    5.0000     1.1351    30.0000 │\n",
      "│    1.1351     2.1276    -6.3601 │\n",
      "│   30.0000    -6.3601   354.0000 │\n",
      "[ 35.     -5.225 384.   ]\n"
     ]
    }
   ],
   "source": [
    "# Function to be fitted:\n",
    "F = lambda x: [1, np.sin(x), x*x]\n",
    "# Function after fitting:\n",
    "Fc = lambda x,c: c[0]+c[1]*np.sin(x)+c[2]*x*x\n",
    "\n",
    "def print_table(A):\n",
    "    \"\"\" Print matrix in nice format\n",
    "    A: matrix\n",
    "    \"\"\"\n",
    "    if type(A) != np.ndarray:\n",
    "        A = np.array(A)\n",
    "    m,n = A.shape\n",
    "    for i in range(m):\n",
    "        print(\"│\",end=\"\")\n",
    "        for j in range(n-1):\n",
    "            print(\"{:10.4f}\".format(A[i,j]),end=\" \")\n",
    "        print(\"{:10.4f}\".format(A[i,-1]),end=\" \")\n",
    "        print(\"│\",end=\"\")\n",
    "        print()\n",
    "\n",
    "def print_normal_equation(F,x,y):\n",
    "    \"\"\" Print the normal equation for a given function F\n",
    "    F: function to be fitted\n",
    "    x: x-values\n",
    "    \"\"\"\n",
    "    A = np.array(list(map(F,x)))\n",
    "    print_table(A.T@A)\n",
    "    print(np.round(A.T@y,4))\n",
    "\n",
    "def fit(F,Fc,x,y):\n",
    "    \"\"\" Fit a function to data using least squares\n",
    "    F: function to be fitted\n",
    "    Fc: function after fitting\n",
    "    x: x-values\n",
    "    y: y-values\n",
    "    \"\"\"\n",
    "    A = np.array(list(map(F,x)))\n",
    "    c = np.linalg.solve(A.T@A, A.T@y)\n",
    "    return Fc(x,c),c\n",
    "\n",
    "\n",
    "print_normal_equation(F,[0,1,2,3,4],[1,2,5,10,17])\n"
   ]
  },
  {
   "cell_type": "code",
   "execution_count": 85,
   "metadata": {},
   "outputs": [],
   "source": [
    "def print_table(A):\n",
    "    \"\"\" Print matrix in nice format\n",
    "    A: matrix\n",
    "    \"\"\"\n",
    "    if type(A) != np.ndarray:\n",
    "        A = np.array(A)\n",
    "    m,n = A.shape\n",
    "    for i in range(m):\n",
    "        print(\"│\",end=\"\")\n",
    "        for j in range(n-1):\n",
    "            print(\"{:10.4f}\".format(A[i,j]),end=\" \")\n",
    "        print(\"{:10.4f}\".format(A[i,-1]),end=\" \")\n",
    "        print(\"│\",end=\"\")\n",
    "        print()\n"
   ]
  },
  {
   "cell_type": "code",
   "execution_count": 86,
   "metadata": {},
   "outputs": [],
   "source": [
    "A = np.array([[1,2,3],[4,5,6],[7,8,9]])"
   ]
  },
  {
   "cell_type": "code",
   "execution_count": 87,
   "metadata": {},
   "outputs": [
    {
     "name": "stdout",
     "output_type": "stream",
     "text": [
      "│    1.0000     2.0000     3.0000 │\n",
      "│    4.0000     5.0000     6.0000 │\n",
      "│    7.0000     8.0000     9.0000 │\n"
     ]
    }
   ],
   "source": [
    "print_table(A)"
   ]
  },
  {
   "cell_type": "code",
   "execution_count": 114,
   "metadata": {},
   "outputs": [
    {
     "data": {
      "text/plain": [
       "1.735145917070173e-07"
      ]
     },
     "execution_count": 114,
     "metadata": {},
     "output_type": "execute_result"
    }
   ],
   "source": [
    "def SecondInterpolationError(n,M,h):\n",
    "    \"\"\" Second interpolation error sentence\n",
    "    n: order of the polynomial\n",
    "    M: fourth derivative of the function\n",
    "    h: step size\n",
    "    \"\"\"\n",
    "    return 1/(4*(n+1)) * M *h**(n+1)\n",
    "M = lambda x: 2**4*np.exp(2*x)\n",
    "SecondInterpolationError(15,M(4),4/16)"
   ]
  },
  {
   "cell_type": "code",
   "execution_count": 95,
   "metadata": {},
   "outputs": [],
   "source": [
    "def InterpolerLagrangeForm(x, y, t):\n",
    "    \"\"\" Calculates the values of the interpolating polynomial in Lagrange form\n",
    "        x: list of nodes(knots)\n",
    "        y: list of y-values\n",
    "        t: points to evaluate the polynomial as list\n",
    "        \n",
    "    Returns:\n",
    "        list: [P(t1) ... P(tm)]  a row with the m function values of the interpolating polynomial\n",
    "    \"\"\"\n",
    "    cardinals = CardinalPolynomial(x,0,t)\n",
    "    for i in range(1,len(x)):\n",
    "        cardinals = np.vstack((cardinals,CardinalPolynomial(x,i,t)))\n",
    "\n",
    "    cardinals = cardinals.T\n",
    "    P_val = np.zeros(len(t))\n",
    "    for idx in range(len(t)):\n",
    "        P_val[idx] = np.sum(np.multiply(cardinals[idx],y))\n",
    "    return P_val"
   ]
  },
  {
   "cell_type": "code",
   "execution_count": 104,
   "metadata": {},
   "outputs": [],
   "source": [
    "f = lambda x: np.exp(2*x)\n",
    "P_val = InterpolerLagrangeForm(np.linspace(0,4,15),f(np.linspace(0,4,15)),np.linspace(0,4,300))"
   ]
  },
  {
   "cell_type": "code",
   "execution_count": 110,
   "metadata": {},
   "outputs": [],
   "source": [
    "error = np.abs(f(np.linspace(0,4,300))-P_val)"
   ]
  },
  {
   "cell_type": "code",
   "execution_count": 119,
   "metadata": {},
   "outputs": [
    {
     "data": {
      "image/png": "[encoded data removed]",
      "text/plain": [
       "<Figure size 640x480 with 1 Axes>"
      ]
     },
     "metadata": {},
     "output_type": "display_data"
    }
   ],
   "source": [
    "plt.plot(np.linspace(0,4,300),error);"
   ]
  },
  {
   "cell_type": "code",
   "execution_count": 112,
   "metadata": {},
   "outputs": [
    {
     "data": {
      "text/plain": [
       "0.00013274258617457235"
      ]
     },
     "execution_count": 112,
     "metadata": {},
     "output_type": "execute_result"
    }
   ],
   "source": [
    "error.max()"
   ]
  },
  {
   "cell_type": "code",
   "execution_count": 118,
   "metadata": {},
   "outputs": [
    {
     "name": "stdout",
     "output_type": "stream",
     "text": [
      "17\n"
     ]
    }
   ],
   "source": [
    "for i in range(14,25):\n",
    "    if SecondInterpolationError(i,M(4),4/(i+1)) <= 10**(-8):\n",
    "        print(i)\n",
    "        break"
   ]
  },
  {
   "cell_type": "code",
   "execution_count": 145,
   "metadata": {},
   "outputs": [],
   "source": [
    "A = [[2,1],[1,2]]"
   ]
  },
  {
   "cell_type": "code",
   "execution_count": 164,
   "metadata": {},
   "outputs": [],
   "source": [
    "def Cholesky2L(A):\n",
    "    \"\"\" Gives back each step to finding L\n",
    "    A: matrix\n",
    "    \"\"\"\n",
    "    if type(A) != np.ndarray:\n",
    "        A = np.array(A)\n",
    "    n = len(A)\n",
    "    L = np.zeros((n,n))\n",
    "    L_sym = [[\"\" for i in range(n)] for j in range(n)]\n",
    "    for i in range(n):\n",
    "        for j in range(i+1):\n",
    "            if i == j:\n",
    "                L[i,j] = np.sqrt(A[i,j] - np.sum(L[i,:j]**2))\n",
    "                if np.sum(L[i,:j]**2)==0:\n",
    "                    L_sym[i][j] = f\"sqrt({A[i,j]})\"\n",
    "                else: \n",
    "                    L_sym[i][j] = f\"sqrt({A[i,j]} - {np.sum(L[i,:j])}^2)\"\n",
    "            else:\n",
    "                L[i,j] = (A[i,j] - np.sum(L[i,:j]*L[j,:j]))/L[j,j]\n",
    "                if np.sum(L[i,:j]*L[j,:j])==0:\n",
    "                    L_sym[i][j] = f\"{A[i,j]}/{L_sym[j][j]}\"\n",
    "                else:\n",
    "                    L_sym[i][j] = f\"({A[i,j]} - {np.sum(L[i,:j]*L[j,:j])})/{L[j,j]}\"\n",
    "    return L, L_sym"
   ]
  },
  {
   "attachments": {
    "image.png": {
     "image/png": "[encoded data removed]"
    }
   },
   "cell_type": "markdown",
   "metadata": {},
   "source": [
    "![image.png](attachment:image.png)"
   ]
  },
  {
   "cell_type": "code",
   "execution_count": 165,
   "metadata": {},
   "outputs": [
    {
     "data": {
      "text/plain": [
       "(array([[1.41421356, 0.        ],\n",
       "        [0.70710678, 1.22474487]]),\n",
       " [['sqrt(2)', ''], ['1/sqrt(2)', 'sqrt(2 - 0.7071067811865475^2)']])"
      ]
     },
     "execution_count": 165,
     "metadata": {},
     "output_type": "execute_result"
    }
   ],
   "source": [
    "Cholesky2L(A)"
   ]
  },
  {
   "cell_type": "code",
   "execution_count": 171,
   "metadata": {},
   "outputs": [],
   "source": [
    "def FdFOpgave4_1(X):\n",
    "    f1 = lambda x: x[0]**2 + x[1]**2 - 4\n",
    "    f2 = lambda x: x[1]-1/x[0]\n",
    "    F = np.array([f1(X),f2(X)])\n",
    "    df = np.array([[2*X[0],2*X[1]],[-1/X[0]**2,1]])\n",
    "    return F, df\n"
   ]
  },
  {
   "cell_type": "code",
   "execution_count": 172,
   "metadata": {},
   "outputs": [
    {
     "data": {
      "text/plain": [
       "array([[2.        , 0.5       ],\n",
       "       [1.94117647, 0.48529412],\n",
       "       [1.93328848, 0.51305819]])"
      ]
     },
     "execution_count": 172,
     "metadata": {},
     "output_type": "execute_result"
    }
   ],
   "source": [
    "def Newtonsys(FdF, X0, kmax):\n",
    "    \"\"\" Newton's method for solving systems of equations\n",
    "    FdF: function returning F(x) and dF(x)\n",
    "    X0: initial guess\n",
    "    kmax: maximum number of iterations\n",
    "    \"\"\"\n",
    "    X = X0\n",
    "    \n",
    "    Xiterations = []\n",
    "    for k in range(kmax):\n",
    "        Fx, dFx = FdF(X)\n",
    "        H = np.linalg.solve(dFx, Fx)\n",
    "        X = X - H.flatten()\n",
    "        Xiterations.append(X)\n",
    "    return np.array(Xiterations)\n",
    "\n",
    "Newtonsys(FdFOpgave4_1,[2.0, 0.0],3)\n"
   ]
  },
  {
   "cell_type": "code",
   "execution_count": 173,
   "metadata": {},
   "outputs": [],
   "source": [
    "# 5\n",
    "def sys5(t,X):\n",
    "    return np.array([X[1],-t**3*X[1]+t**2*X[0]+t])"
   ]
  },
  {
   "cell_type": "code",
   "execution_count": 192,
   "metadata": {},
   "outputs": [
    {
     "data": {
      "text/plain": [
       "(array([-1. , -0.8, -0.6, -0.4, -0.2,  0. ,  0.2,  0.4,  0.6,  0.8,  1. ]),\n",
       " array([[1.        , 1.        ],\n",
       "        [1.21719202, 1.15760768],\n",
       "        [1.45742826, 1.23203282],\n",
       "        [1.70578565, 1.24359036],\n",
       "        [1.95282805, 1.22467928],\n",
       "        [2.19597614, 1.21053797],\n",
       "        [2.43970978, 1.23638984],\n",
       "        [2.69552426, 1.33703257],\n",
       "        [2.98163562, 1.54391783],\n",
       "        [3.3214706 , 1.87533524],\n",
       "        [3.73937661, 2.31887793]]))"
      ]
     },
     "execution_count": 192,
     "metadata": {},
     "output_type": "execute_result"
    }
   ],
   "source": [
    "RungeKutta4System(sys5,[-1,1],[1,1],10)"
   ]
  },
  {
   "cell_type": "code",
   "execution_count": 179,
   "metadata": {},
   "outputs": [
    {
     "data": {
      "text/plain": [
       "array([-1. , -0.5,  0. ,  0.5,  1. ])"
      ]
     },
     "execution_count": 179,
     "metadata": {},
     "output_type": "execute_result"
    }
   ],
   "source": [
    "np.linspace(-1,1,5)"
   ]
  },
  {
   "cell_type": "code",
   "execution_count": null,
   "metadata": {},
   "outputs": [],
   "source": []
  }
 ],
 "metadata": {
  "kernelspec": {
   "display_name": "Python 3",
   "language": "python",
   "name": "python3"
  },
  "language_info": {
   "codemirror_mode": {
    "name": "ipython",
    "version": 3
   },
   "file_extension": ".py",
   "mimetype": "text/x-python",
   "name": "python",
   "nbconvert_exporter": "python",
   "pygments_lexer": "ipython3",
   "version": "3.9.3"
  },
  "orig_nbformat": 4
 },
 "nbformat": 4,
 "nbformat_minor": 2
}
