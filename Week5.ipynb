{
 "cells": [
  {
   "cell_type": "code",
   "execution_count": 1,
   "metadata": {},
   "outputs": [],
   "source": [
    "import numpy as np\n",
    "import matplotlib.pyplot as plt"
   ]
  },
  {
   "cell_type": "code",
   "execution_count": 3,
   "metadata": {},
   "outputs": [],
   "source": [
    "# Lagrange cardinal CardinalPolynomial\n",
    "def CardinalPolynomial(x, i, t):\n",
    "    \"\"\"Lagrange cardinal polynomial\n",
    "    x: list of nodes(knots)\n",
    "    i: index of the node\n",
    "    t: points to evaluate the polynomial as list\n",
    "    \"\"\"\n",
    "    l = lambda k: np.prod([(k - x[j]) / (x[i] - x[j]) for j in range(len(x)) if j != i])\n",
    "    return np.array([l(k) for k in t])\n",
    "\n",
    "def InterpolerLagrangeForm(x, y, t):\n",
    "    \"\"\" Calculates the values of the interpolating polynomial in Lagrange form\n",
    "    args:\n",
    "        x: list of nodes(knots)\n",
    "        y: list of y-values\n",
    "        t: points to evaluate the polynomial as list\n",
    "        \n",
    "    Returns:\n",
    "        list: [P(t1) ... P(tm)]  a row with the m function values of the interpolating polynomial\n",
    "    \"\"\"\n",
    "    cardinals = CardinalPolynomial(x,0,t)\n",
    "    for i in range(1,len(x)):\n",
    "        cardinals = np.vstack((cardinals,CardinalPolynomial(x,i,t)))\n",
    "\n",
    "    cardinals = cardinals.T\n",
    "    P_val = np.zeros(len(t))\n",
    "    for idx in range(len(t)):\n",
    "        P_val[idx] = np.sum(np.multiply(cardinals[idx],y))\n",
    "    return P_val\n"
   ]
  },
  {
   "attachments": {},
   "cell_type": "markdown",
   "metadata": {},
   "source": [
    "## 9.1 Invers Kvadratisk Interpolation"
   ]
  },
  {
   "cell_type": "code",
   "execution_count": 4,
   "metadata": {},
   "outputs": [],
   "source": [
    "f = lambda x: np.sin(x)*np.exp(10*x)"
   ]
  },
  {
   "cell_type": "code",
   "execution_count": 16,
   "metadata": {},
   "outputs": [],
   "source": [
    "def MinInversKvadratiskInterpolation(f,xGuess,n):\n",
    "    output = []\n",
    "    for _ in range(n):\n",
    "        x = list(map(f,xGuess))\n",
    "        x3 = InterpolerLagrangeForm(x,xGuess,[0])\n",
    "        xGuess = [xGuess[1],xGuess[2],x3[0]]\n",
    "        output.append(x3[0])\n",
    "    return output \n"
   ]
  },
  {
   "cell_type": "code",
   "execution_count": 17,
   "metadata": {},
   "outputs": [
    {
     "name": "stdout",
     "output_type": "stream",
     "text": [
      "[7.30178851e-02 3.45518058e-02 1.12778675e-02 1.96514823e-03\n",
      " 8.13862485e-05 2.44650919e-07 5.78299328e-12]\n"
     ]
    }
   ],
   "source": [
    "estimates = np.array(MinInversKvadratiskInterpolation(f,[0.3,0.2,0.1],7))\n",
    "print(estimates)"
   ]
  },
  {
   "cell_type": "code",
   "execution_count": 41,
   "metadata": {},
   "outputs": [],
   "source": [
    "e = np.abs(estimates[2:])"
   ]
  },
  {
   "cell_type": "code",
   "execution_count": 42,
   "metadata": {},
   "outputs": [
    {
     "data": {
      "image/png": "[encoded data removed]",
      "text/plain": [
       "<Figure size 640x480 with 1 Axes>"
      ]
     },
     "metadata": {},
     "output_type": "display_data"
    }
   ],
   "source": [
    "plt.plot(np.abs(np.log(e[:-1])),np.abs(np.log(e[1:])),'o');"
   ]
  },
  {
   "cell_type": "code",
   "execution_count": 43,
   "metadata": {},
   "outputs": [
    {
     "name": "stdout",
     "output_type": "stream",
     "text": [
      "[1.98443269 1.82951188]\n"
     ]
    }
   ],
   "source": [
    "x = e[:-1]\n",
    "y = np.log(e[1:])\n",
    "\n",
    "def Ftest(x):\n",
    "    return [1,np.log(x)]\n",
    "def Fctest(x,c):\n",
    "    return c[0]+c[1]*(np.log(x))\n",
    "\n",
    "A = np.array(list(map(Ftest,x)))\n",
    "c = np.linalg.solve(A.T@A, A.T@y)\n",
    "print(c)"
   ]
  },
  {
   "cell_type": "code",
   "execution_count": 45,
   "metadata": {},
   "outputs": [
    {
     "name": "stdout",
     "output_type": "stream",
     "text": [
      "[-0.0910799   2.10911055  2.163979   -0.0910799  -0.0910799   0.9626646\n",
      "  0.96266162 -0.09107398 -0.09106806  0.96148293  0.96148289 -0.09106207\n",
      " -0.09105609  0.9598974   0.95989735 -0.09105001 -0.09104392  0.95829338\n",
      "  0.95829333 -0.09103775]\n"
     ]
    }
   ],
   "source": [
    "estimates = np.array(MinInversKvadratiskInterpolation(f,[0.3,0.2,-0.1],20))\n",
    "print(estimates)"
   ]
  },
  {
   "attachments": {},
   "cell_type": "markdown",
   "metadata": {},
   "source": [
    "## 9.2 Invers Interpolation Generelt"
   ]
  },
  {
   "cell_type": "code",
   "execution_count": 48,
   "metadata": {},
   "outputs": [],
   "source": [
    "def MinInversGeneralInterpolation(f,xGuess,n):\n",
    "    X = []\n",
    "    fX = []\n",
    "    for _ in range(n):\n",
    "        x = list(map(f,xGuess))\n",
    "        x_next = InterpolerLagrangeForm(x,xGuess,[0])\n",
    "        xGuess = np.append(xGuess[1:],(x_next[0]))\n",
    "        X.append(x_next[0])\n",
    "    return X"
   ]
  },
  {
   "cell_type": "code",
   "execution_count": 53,
   "metadata": {},
   "outputs": [
    {
     "name": "stdout",
     "output_type": "stream",
     "text": [
      "[ 3.78089476e-02  1.28639020e-02  2.00538576e-03  6.23580324e-05\n",
      "  7.06469811e-08  1.01105167e-13  2.27911382e-25 -1.37753244e-40]\n"
     ]
    }
   ],
   "source": [
    "n = 7\n",
    "x = np.linspace(0.3,0.1,n)\n",
    "estimates = np.array(MinInversGeneralInterpolation(f,x,n+1))\n",
    "print(estimates)"
   ]
  },
  {
   "cell_type": "code",
   "execution_count": 81,
   "metadata": {},
   "outputs": [],
   "source": [
    "def Ftest(x):\n",
    "    return [1,np.log(x)]\n",
    "def Fctest(x,c):\n",
    "    return c[0]+c[1]*(np.log(x))\n",
    "def ting():\n",
    "    for i in range(2):\n",
    "        e = np.abs(estimates[1:-i])\n",
    "        x = e[:-1]\n",
    "        y = np.log(e[1:])\n",
    "\n",
    "        A = np.array(list(map(Ftest,x)))\n",
    "        c = np.linalg.solve(A.T@A, A.T@y)\n",
    "        print(len(e),c[1])"
   ]
  },
  {
   "attachments": {},
   "cell_type": "markdown",
   "metadata": {},
   "source": [
    "### 10. Multiple CHoice"
   ]
  },
  {
   "cell_type": "code",
   "execution_count": 3,
   "metadata": {},
   "outputs": [
    {
     "ename": "NameError",
     "evalue": "name 'n' is not defined",
     "output_type": "error",
     "traceback": [
      "\u001b[1;31m---------------------------------------------------------------------------\u001b[0m",
      "\u001b[1;31mNameError\u001b[0m                                 Traceback (most recent call last)",
      "Cell \u001b[1;32mIn[3], line 1\u001b[0m\n\u001b[1;32m----> 1\u001b[0m \u001b[39m-\u001b[39m\u001b[39m1\u001b[39m\u001b[39m/\u001b[39m\u001b[39m180\u001b[39m\u001b[39m*\u001b[39m(\u001b[39m-\u001b[39m\u001b[39m5\u001b[39m\u001b[39m*\u001b[39m((\u001b[39m-\u001b[39m\u001b[39m5\u001b[39m)\u001b[39m/\u001b[39mn)\u001b[39m*\u001b[39m\u001b[39m*\u001b[39m\u001b[39m4\u001b[39m)\u001b[39m*\u001b[39m\u001b[39m2\u001b[39m\n",
      "\u001b[1;31mNameError\u001b[0m: name 'n' is not defined"
     ]
    }
   ],
   "source": [
    "-1/180*(-5*((-5)/n)**4)*2"
   ]
  },
  {
   "cell_type": "code",
   "execution_count": null,
   "metadata": {},
   "outputs": [],
   "source": []
  }
 ],
 "metadata": {
  "kernelspec": {
   "display_name": "Python 3",
   "language": "python",
   "name": "python3"
  },
  "language_info": {
   "codemirror_mode": {
    "name": "ipython",
    "version": 3
   },
   "file_extension": ".py",
   "mimetype": "text/x-python",
   "name": "python",
   "nbconvert_exporter": "python",
   "pygments_lexer": "ipython3",
   "version": "3.10.9"
  },
  "orig_nbformat": 4
 },
 "nbformat": 4,
 "nbformat_minor": 2
}
